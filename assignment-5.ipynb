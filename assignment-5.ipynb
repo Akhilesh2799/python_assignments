{
 "cells": [
  {
   "cell_type": "code",
   "execution_count": 1,
   "metadata": {},
   "outputs": [],
   "source": [
    "#Create a Vehicle class without any variables and methods.\n",
    "class Vehicles:\n",
    "    pass"
   ]
  },
  {
   "cell_type": "code",
   "execution_count": 4,
   "metadata": {},
   "outputs": [],
   "source": [
    "#Create a child class Bus that will inherit all of the variables and methods of the Vehicle class.\n",
    "class Bus(Vehicles):\n",
    "    def __init__(self,seatnum,routename):\n",
    "        self.seatnum=seatnum\n",
    "        self.routename=routename\n",
    "p1=Bus(4,\"hyb\")\n",
    "p2=Bus(43,\"chennai\")"
   ]
  },
  {
   "cell_type": "code",
   "execution_count": 11,
   "metadata": {},
   "outputs": [
    {
     "name": "stdout",
     "output_type": "stream",
     "text": [
      "hyb\n",
      "43\n"
     ]
    }
   ],
   "source": [
    "print(p1.routename)\n",
    "print(p2.seatnum)"
   ]
  },
  {
   "cell_type": "code",
   "execution_count": 4,
   "metadata": {},
   "outputs": [],
   "source": [
    "#Bank Account Management: Create a program that models a bank account using classes and objects. \n",
    "#The program should allow users to deposit and withdraw money,\n",
    "#check their account balance, and view their transaction history.\n",
    "class Bankaccount:\n",
    "    def __init__(self,name,balance=0):\n",
    "        self.name=name\n",
    "        self.balance=balance\n",
    "        self.transation_history=[]\n",
    "    def deposit(self,amount):\n",
    "        self.balance+=amount\n",
    "        self.transation_history.append('deposit',amount)\n",
    "    def withdrawl(self,amount):\n",
    "        if amount>self.amount:\n",
    "            print(\"insufficient funds\")\n",
    "        else:\n",
    "            self.balance -= amount\n",
    "            self.transation_history.append('withdrawl',amount)\n",
    "    def check_balance(self):\n",
    "        print(\"Account Balance is\", self.name,self.balance)\n",
    "    def vth(self):\n",
    "        print(\"transcation history\",self.name)"
   ]
  },
  {
   "cell_type": "code",
   "execution_count": 27,
   "metadata": {},
   "outputs": [
    {
     "name": "stdout",
     "output_type": "stream",
     "text": [
      "file has 27 letters\n"
     ]
    }
   ],
   "source": [
    "#Write a program that reads a text file and counts the number of words in it.\n",
    "import csv \n",
    "with open('a.txt','r') as file:\n",
    "     content=file.read()\n",
    "     words=content.split()\n",
    "     no_w=len(content)\n",
    "print(\"file has\",no_w,\"letters\")\n"
   ]
  },
  {
   "cell_type": "code",
   "execution_count": 31,
   "metadata": {},
   "outputs": [
    {
     "name": "stdout",
     "output_type": "stream",
     "text": [
      "sai akhilesh is a good boy\n",
      "\n",
      "born and bought up in vijaaywada \n"
     ]
    }
   ],
   "source": [
    "#Write a program that reads two text files and merges them into a single file.\n",
    "import csv\n",
    "with open('a.txt','r') as file,open('b.txt','r') as file2:\n",
    "    data1=file.read()\n",
    "    data2=file2.read()\n",
    "data1 += \"\\n\"\n",
    "data1 +=  data2\n",
    "with open('c.txt','w') as file3:\n",
    "    file3.write(data1)\n",
    "print(data1)"
   ]
  },
  {
   "cell_type": "code",
   "execution_count": null,
   "metadata": {},
   "outputs": [],
   "source": [
    "#Write a program that renames any files by taking the path of that file and new name.\n",
    "import os\n",
    "old_name=r\"C:\\Users\\amini\\OneDrive\\Capstones Data\"\n",
    "new_name=r\"C:\\Users\\amini\\OneDrive\\Capstones Data1\"\n",
    "os.rename(old_name,new_name)"
   ]
  }
 ],
 "metadata": {
  "kernelspec": {
   "display_name": "Python 3",
   "language": "python",
   "name": "python3"
  },
  "language_info": {
   "codemirror_mode": {
    "name": "ipython",
    "version": 3
   },
   "file_extension": ".py",
   "mimetype": "text/x-python",
   "name": "python",
   "nbconvert_exporter": "python",
   "pygments_lexer": "ipython3",
   "version": "3.11.2"
  },
  "orig_nbformat": 4
 },
 "nbformat": 4,
 "nbformat_minor": 2
}
