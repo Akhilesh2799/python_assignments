{
 "cells": [
  {
   "cell_type": "code",
   "execution_count": null,
   "metadata": {},
   "outputs": [],
   "source": [
    "#What is pandas and Why it is used, also write it's advantages ?\n",
    "'''Pandas is an open-source data manipulation library in Python used for data analysis and manipulation tasks.\n",
    "It provides high-performance, easy-to-use data structures and data analysis tools.\n",
    "Pandas is mainly used for data cleaning, data exploration, and data transformation tasks.\n",
    "It can handle a variety of data types, including CSV files, Excel spreadsheets, SQL databases and more.\n",
    "Pandas is widely used in data science.\n",
    "Advantages of Pandas:\n",
    "Easy data manipulation: Pandas makes it easy to clean, reshape, and transform data using built-in functions and methods.\n",
    "Handling missing data: Pandas provides tools for handling missing data, such as filling missing values, removing missing values\n",
    "and interpolating missing values.\n",
    "Data visualization: Pandas makes it easy to visualize data with built-in visualization tools.\n",
    "Efficient performance: Pandas is designed to be fast and efficient, making it ideal for working with large datasets.'''"
   ]
  },
  {
   "cell_type": "code",
   "execution_count": 6,
   "metadata": {},
   "outputs": [
    {
     "name": "stdout",
     "output_type": "stream",
     "text": [
      "      label  1x1  1x2  1x3  1x4  1x5  1x6  1x7  1x8  1x9  ...  28x19  28x20   \n",
      "0         7    0    0    0    0    0    0    0    0    0  ...      0      0  \\\n",
      "1         2    0    0    0    0    0    0    0    0    0  ...      0      0   \n",
      "2         1    0    0    0    0    0    0    0    0    0  ...      0      0   \n",
      "3         0    0    0    0    0    0    0    0    0    0  ...      0      0   \n",
      "4         4    0    0    0    0    0    0    0    0    0  ...      0      0   \n",
      "...     ...  ...  ...  ...  ...  ...  ...  ...  ...  ...  ...    ...    ...   \n",
      "9995      2    0    0    0    0    0    0    0    0    0  ...      0      0   \n",
      "9996      3    0    0    0    0    0    0    0    0    0  ...      0      0   \n",
      "9997      4    0    0    0    0    0    0    0    0    0  ...      0      0   \n",
      "9998      5    0    0    0    0    0    0    0    0    0  ...      0      0   \n",
      "9999      6    0    0    0    0    0    0    0    0    0  ...      0      0   \n",
      "\n",
      "      28x21  28x22  28x23  28x24  28x25  28x26  28x27  28x28  \n",
      "0         0      0      0      0      0      0      0      0  \n",
      "1         0      0      0      0      0      0      0      0  \n",
      "2         0      0      0      0      0      0      0      0  \n",
      "3         0      0      0      0      0      0      0      0  \n",
      "4         0      0      0      0      0      0      0      0  \n",
      "...     ...    ...    ...    ...    ...    ...    ...    ...  \n",
      "9995      0      0      0      0      0      0      0      0  \n",
      "9996      0      0      0      0      0      0      0      0  \n",
      "9997      0      0      0      0      0      0      0      0  \n",
      "9998      0      0      0      0      0      0      0      0  \n",
      "9999      0      0      0      0      0      0      0      0  \n",
      "\n",
      "[10000 rows x 785 columns]\n"
     ]
    }
   ],
   "source": [
    "#How do you import data from a CSV file using Pandas ? demonstrate using a sample dataset.\n",
    "'''First import the pandas and use read_csv to read the csv file and write the path of the file'''\n",
    "import pandas as pd\n",
    "pf = pd.read_csv(r\"C:\\Users\\amini\\OneDrive\\Capstones Data\\Python\\mnist_test.csv\")\n",
    "print(pf)"
   ]
  },
  {
   "cell_type": "code",
   "execution_count": 7,
   "metadata": {},
   "outputs": [
    {
     "name": "stdout",
     "output_type": "stream",
     "text": [
      "              label      1x1      1x2      1x3      1x4      1x5      1x6   \n",
      "count  10000.000000  10000.0  10000.0  10000.0  10000.0  10000.0  10000.0  \\\n",
      "mean       4.443400      0.0      0.0      0.0      0.0      0.0      0.0   \n",
      "std        2.895865      0.0      0.0      0.0      0.0      0.0      0.0   \n",
      "min        0.000000      0.0      0.0      0.0      0.0      0.0      0.0   \n",
      "25%        2.000000      0.0      0.0      0.0      0.0      0.0      0.0   \n",
      "50%        4.000000      0.0      0.0      0.0      0.0      0.0      0.0   \n",
      "75%        7.000000      0.0      0.0      0.0      0.0      0.0      0.0   \n",
      "max        9.000000      0.0      0.0      0.0      0.0      0.0      0.0   \n",
      "\n",
      "           1x7      1x8      1x9  ...         28x19         28x20   \n",
      "count  10000.0  10000.0  10000.0  ...  10000.000000  10000.000000  \\\n",
      "mean       0.0      0.0      0.0  ...      0.179300      0.163600   \n",
      "std        0.0      0.0      0.0  ...      5.674149      5.736072   \n",
      "min        0.0      0.0      0.0  ...      0.000000      0.000000   \n",
      "25%        0.0      0.0      0.0  ...      0.000000      0.000000   \n",
      "50%        0.0      0.0      0.0  ...      0.000000      0.000000   \n",
      "75%        0.0      0.0      0.0  ...      0.000000      0.000000   \n",
      "max        0.0      0.0      0.0  ...    253.000000    253.000000   \n",
      "\n",
      "              28x21       28x22    28x23    28x24    28x25    28x26    28x27   \n",
      "count  10000.000000  10000.0000  10000.0  10000.0  10000.0  10000.0  10000.0  \\\n",
      "mean       0.052600      0.0006      0.0      0.0      0.0      0.0      0.0   \n",
      "std        2.420004      0.0600      0.0      0.0      0.0      0.0      0.0   \n",
      "min        0.000000      0.0000      0.0      0.0      0.0      0.0      0.0   \n",
      "25%        0.000000      0.0000      0.0      0.0      0.0      0.0      0.0   \n",
      "50%        0.000000      0.0000      0.0      0.0      0.0      0.0      0.0   \n",
      "75%        0.000000      0.0000      0.0      0.0      0.0      0.0      0.0   \n",
      "max      156.000000      6.0000      0.0      0.0      0.0      0.0      0.0   \n",
      "\n",
      "         28x28  \n",
      "count  10000.0  \n",
      "mean       0.0  \n",
      "std        0.0  \n",
      "min        0.0  \n",
      "25%        0.0  \n",
      "50%        0.0  \n",
      "75%        0.0  \n",
      "max        0.0  \n",
      "\n",
      "[8 rows x 785 columns]\n"
     ]
    }
   ],
   "source": [
    "#Display statistical analysis (mean,median,datatypes,etc.) on a dataset ?Provide examples.\n",
    "import pandas as pd\n",
    "Pe = pd.read_csv(r\"C:\\Users\\amini\\OneDrive\\Capstones Data\\Python\\mnist_test.csv\")\n",
    "print(Pe.describe())"
   ]
  },
  {
   "cell_type": "code",
   "execution_count": 53,
   "metadata": {},
   "outputs": [
    {
     "name": "stdout",
     "output_type": "stream",
     "text": [
      "   Last Name   Quiz 1 Score   Quiz 2 Score   Mid Semester Score   \n",
      "0        Doe              8              6                   67  \\\n",
      "1        Roe              5              8                   78   \n",
      "2       Sigh              3              2                   34   \n",
      "\n",
      "    Final Semester Score  \n",
      "0                     75  \n",
      "1                     90  \n",
      "2                     35  \n"
     ]
    }
   ],
   "source": [
    "#Write a program to drop and rename any two columns from any dataset ?\n",
    "import pandas as pd\n",
    "pg = pd.read_csv(r\"C:\\Users\\amini\\OneDrive\\Capstones Data\\Python\\First.csv\")\n",
    "pg.drop(['First Name'],axis=1,inplace=True)\n",
    "pg.rename(columns={'Last Name':'Initial'},inplace=True)\n",
    "print(pg)"
   ]
  },
  {
   "cell_type": "code",
   "execution_count": 55,
   "metadata": {},
   "outputs": [
    {
     "name": "stdout",
     "output_type": "stream",
     "text": [
      "          Name Age  Location\n",
      "0     Akhilesh  22       Vjw\n",
      "1  Sai krishna  23       Hyb\n",
      "2       Saurab  21  Banglore\n",
      "3       prasad  23        up\n"
     ]
    }
   ],
   "source": [
    "#What is DataFrame in Pandas? convert any list into a DataFrame.\n",
    "'''In Pandas, a DataFrame is a two-dimensional labeled data structure with columns of potentially different types.\n",
    "It is similar to a spreadsheet or SQL table, where each column can have a different data type and is identified by a unique label.\n",
    "DataFrames can be created from a variety of sources, including CSV files, Excel spreadsheets, SQL databases, and Python data structures.'''\n",
    "import pandas as pd\n",
    "data = [\n",
    "    ['Akhilesh','22','Vjw'],\n",
    "    ['Sai krishna','23','Hyb'],\n",
    "    ['Saurab','21','Banglore'],\n",
    "    ['prasad','23','up']\n",
    "]\n",
    "df = pd.DataFrame(data,columns=['Name','Age','Location'])\n",
    "print(df)"
   ]
  },
  {
   "cell_type": "code",
   "execution_count": 59,
   "metadata": {},
   "outputs": [
    {
     "name": "stdout",
     "output_type": "stream",
     "text": [
      "          Name Age  Location\n",
      "0     Akhilesh  22       Vjw\n",
      "1  Sai krishna  23       Hyb\n",
      "2       Saurab  21  Banglore\n",
      "3       prasad  23        up\n"
     ]
    }
   ],
   "source": [
    "#Why iloc function is used ? Display first 10 rows and first 5 columns using ‘iloc’ function.\n",
    "'''In pandas 'iloc' function is used to print the range of the columns and rows from the dataframe by their integer index position'''\n",
    "import pandas as pd\n",
    "de = df.iloc[:10,:5]\n",
    "print(de)\n",
    "'''here our condition is 10 rows and 5 columns but de dont have much data so it is print the whole de '''"
   ]
  },
  {
   "cell_type": "code",
   "execution_count": 62,
   "metadata": {},
   "outputs": [
    {
     "name": "stdout",
     "output_type": "stream",
     "text": [
      "      label  1x1  1x2  1x3  1x4  1x5  1x6  1x7  1x8  1x9  ...  28x19  28x20   \n",
      "3450      0    0    0    0    0    0    0    0    0    0  ...      0      0  \\\n",
      "5807      5    0    0    0    0    0    0    0    0    0  ...      0      0   \n",
      "6693      6    0    0    0    0    0    0    0    0    0  ...      0      0   \n",
      "1981      6    0    0    0    0    0    0    0    0    0  ...      0      0   \n",
      "3072      8    0    0    0    0    0    0    0    0    0  ...      0      0   \n",
      "3151      2    0    0    0    0    0    0    0    0    0  ...      0      0   \n",
      "6432      3    0    0    0    0    0    0    0    0    0  ...      0      0   \n",
      "7501      3    0    0    0    0    0    0    0    0    0  ...      0      0   \n",
      "8333      6    0    0    0    0    0    0    0    0    0  ...      0      0   \n",
      "4292      1    0    0    0    0    0    0    0    0    0  ...      0      0   \n",
      "3232      4    0    0    0    0    0    0    0    0    0  ...      0      0   \n",
      "6837      7    0    0    0    0    0    0    0    0    0  ...      0      0   \n",
      "5935      3    0    0    0    0    0    0    0    0    0  ...      0      0   \n",
      "2115      7    0    0    0    0    0    0    0    0    0  ...      0      0   \n",
      "6714      3    0    0    0    0    0    0    0    0    0  ...      0      0   \n",
      "7267      7    0    0    0    0    0    0    0    0    0  ...      0      0   \n",
      "1274      4    0    0    0    0    0    0    0    0    0  ...      0      0   \n",
      "3304      6    0    0    0    0    0    0    0    0    0  ...      0      0   \n",
      "9852      7    0    0    0    0    0    0    0    0    0  ...      0      0   \n",
      "6790      3    0    0    0    0    0    0    0    0    0  ...      0      0   \n",
      "\n",
      "      28x21  28x22  28x23  28x24  28x25  28x26  28x27  28x28  \n",
      "3450      0      0      0      0      0      0      0      0  \n",
      "5807      0      0      0      0      0      0      0      0  \n",
      "6693      0      0      0      0      0      0      0      0  \n",
      "1981      0      0      0      0      0      0      0      0  \n",
      "3072      0      0      0      0      0      0      0      0  \n",
      "3151      0      0      0      0      0      0      0      0  \n",
      "6432      0      0      0      0      0      0      0      0  \n",
      "7501      0      0      0      0      0      0      0      0  \n",
      "8333      0      0      0      0      0      0      0      0  \n",
      "4292      0      0      0      0      0      0      0      0  \n",
      "3232      0      0      0      0      0      0      0      0  \n",
      "6837      0      0      0      0      0      0      0      0  \n",
      "5935      0      0      0      0      0      0      0      0  \n",
      "2115      0      0      0      0      0      0      0      0  \n",
      "6714      0      0      0      0      0      0      0      0  \n",
      "7267      0      0      0      0      0      0      0      0  \n",
      "1274      0      0      0      0      0      0      0      0  \n",
      "3304      0      0      0      0      0      0      0      0  \n",
      "9852      0      0      0      0      0      0      0      0  \n",
      "6790      0      0      0      0      0      0      0      0  \n",
      "\n",
      "[20 rows x 785 columns]\n"
     ]
    }
   ],
   "source": [
    "#How do you select random samples from a pandas DataFrame? Give an example.\n",
    "'''In pandas we have sample function it gives the random values from a dataframe '''\n",
    "import pandas as pd\n",
    "pr = pd.read_csv(r\"C:\\Users\\amini\\OneDrive\\Capstones Data\\Python\\mnist_test.csv\")\n",
    "sample = pr.sample(n=20)\n",
    "print(sample)"
   ]
  },
  {
   "cell_type": "code",
   "execution_count": 76,
   "metadata": {},
   "outputs": [
    {
     "name": "stdout",
     "output_type": "stream",
     "text": [
      "   label  1x1\n",
      "0      7    0\n",
      "1      2    0\n",
      "2      1    0\n",
      "3      0    0\n",
      "4      4    0\n",
      "5      1    0\n",
      "6      4    0\n",
      "7      9    0\n",
      "8      5    0\n",
      "9      9    0\n"
     ]
    }
   ],
   "source": [
    "#What is the difference between ‘iloc’ and ‘loc’ function, also give examples of both ?\n",
    "''' In pandas 'iloc' gives the range of the rows and coulumns from the dataframes with their integer index position\n",
    "'loc' print the selected rows and columns from the data base '''\n",
    "import pandas as pd\n",
    "pr = pd.read_csv(r\"C:\\Users\\amini\\OneDrive\\Capstones Data\\Python\\mnist_test.csv\")\n",
    "pr = pr.iloc[:10,:2]\n",
    "print(pr)"
   ]
  },
  {
   "cell_type": "code",
   "execution_count": 105,
   "metadata": {},
   "outputs": [
    {
     "name": "stdout",
     "output_type": "stream",
     "text": [
      "       Name Age Location\n",
      "0  Akhilesh  22      Vjw\n"
     ]
    }
   ],
   "source": [
    "dg= de.loc[:\"0\"]\n",
    "print(dg)"
   ]
  },
  {
   "cell_type": "code",
   "execution_count": 112,
   "metadata": {},
   "outputs": [
    {
     "name": "stdout",
     "output_type": "stream",
     "text": [
      "     A    B    C    D\n",
      "0  1.0  3.0  NaN  NaN\n",
      "1  2.0  4.0  NaN  NaN\n",
      "2  3.0  5.0  NaN  NaN\n",
      "0  NaN  NaN  3.0  3.0\n",
      "1  NaN  NaN  4.0  6.0\n",
      "2  NaN  NaN  7.0  4.0\n",
      "   A  B  C  D\n",
      "0  1  3  3  3\n",
      "1  2  4  4  6\n",
      "2  3  5  7  4\n"
     ]
    }
   ],
   "source": [
    "#Show, how to combine two DataFrames, both Row wise and column wise ?\n",
    "import pandas as pd\n",
    "fd1 = pd.DataFrame({'A':[1,2,3],'B':[3,4,5]})\n",
    "fd2 = pd.DataFrame({'C':[3,4,7],'D':[3,6,4]})\n",
    "fd_r = pd.concat([fd1,fd2],axis=0)\n",
    "fd_c = pd.concat([fd1,fd2],axis=1)\n",
    "print(fd_r)\n",
    "print(fd_c)"
   ]
  },
  {
   "cell_type": "code",
   "execution_count": 114,
   "metadata": {},
   "outputs": [
    {
     "name": "stdout",
     "output_type": "stream",
     "text": [
      "Empty DataFrame\n",
      "Columns: [A, B, C, D]\n",
      "Index: []\n"
     ]
    }
   ],
   "source": [
    "#How can you remove missing values (NaNs) from a DataFrame ? Show some methods.\n",
    "import pandas as pd\n",
    "x = fd_r.dropna()\n",
    "print(x)"
   ]
  },
  {
   "cell_type": "code",
   "execution_count": null,
   "metadata": {},
   "outputs": [],
   "source": []
  }
 ],
 "metadata": {
  "kernelspec": {
   "display_name": "Python 3",
   "language": "python",
   "name": "python3"
  },
  "language_info": {
   "codemirror_mode": {
    "name": "ipython",
    "version": 3
   },
   "file_extension": ".py",
   "mimetype": "text/x-python",
   "name": "python",
   "nbconvert_exporter": "python",
   "pygments_lexer": "ipython3",
   "version": "3.11.2"
  },
  "orig_nbformat": 4
 },
 "nbformat": 4,
 "nbformat_minor": 2
}
