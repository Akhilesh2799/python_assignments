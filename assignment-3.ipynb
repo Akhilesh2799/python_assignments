{
 "cells": [
  {
   "cell_type": "code",
   "execution_count": 7,
   "metadata": {},
   "outputs": [
    {
     "name": "stdout",
     "output_type": "stream",
     "text": [
      "          *\n",
      "          **\n",
      "*************\n",
      "          **\n",
      "          *\n"
     ]
    }
   ],
   "source": [
    "import time\n",
    "n=int(input(\"Enter Any No to see STAR\"))\n",
    "for i in range(1,n):\n",
    "        if(i==n-1):\n",
    "                print(\"*\"*10,end=\"\")\n",
    "                print(i*\"*\")\n",
    "        else:\n",
    "                time.sleep(1)\n",
    "                print(\" \"*10,end=\"\")\n",
    "                print(i*\"*\")\n",
    "\n",
    "for i in range(n-2,0,-1):\n",
    "    time.sleep(1)\n",
    "    print(\" \"*10,end=\"\")\n",
    "    print(i*\"*\")"
   ]
  },
  {
   "cell_type": "code",
   "execution_count": 4,
   "metadata": {},
   "outputs": [
    {
     "name": "stdout",
     "output_type": "stream",
     "text": [
      "SAI\n",
      "SAI\n",
      "SAI\n",
      "SAI\n",
      "SAI\n",
      "SAI\n",
      "SAI\n",
      "SAI\n",
      "SAI\n"
     ]
    }
   ],
   "source": [
    "x=\"SAI\"\n",
    "for i in range(9):\n",
    "    print(x)"
   ]
  },
  {
   "cell_type": "code",
   "execution_count": null,
   "metadata": {},
   "outputs": [],
   "source": []
  }
 ],
 "metadata": {
  "kernelspec": {
   "display_name": "Python 3",
   "language": "python",
   "name": "python3"
  },
  "language_info": {
   "codemirror_mode": {
    "name": "ipython",
    "version": 3
   },
   "file_extension": ".py",
   "mimetype": "text/x-python",
   "name": "python",
   "nbconvert_exporter": "python",
   "pygments_lexer": "ipython3",
   "version": "3.11.2"
  },
  "orig_nbformat": 4
 },
 "nbformat": 4,
 "nbformat_minor": 2
}
