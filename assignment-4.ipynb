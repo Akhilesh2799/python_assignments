{
 "cells": [
  {
   "cell_type": "code",
   "execution_count": 14,
   "metadata": {},
   "outputs": [],
   "source": [
    "#1.Write a Python program to count the number of vowels in a given string.\n",
    "def nov(string):\n",
    "    vowels=\"aeiouAEIOU\"\n",
    "    count=0\n",
    "    for i in string:\n",
    "        if i in vowels:\n",
    "            count=count+1\n",
    "    print(\"Number of vowels is\",count)"
   ]
  },
  {
   "cell_type": "code",
   "execution_count": 15,
   "metadata": {},
   "outputs": [
    {
     "name": "stdout",
     "output_type": "stream",
     "text": [
      "Number of vowels is 3\n"
     ]
    }
   ],
   "source": [
    "nov(\"akhilesh\")"
   ]
  },
  {
   "cell_type": "code",
   "execution_count": 21,
   "metadata": {},
   "outputs": [
    {
     "name": "stdout",
     "output_type": "stream",
     "text": [
      "4 is non prime\n"
     ]
    }
   ],
   "source": [
    "#2.Write a Python function to check if a given number is prime.\n",
    "x=int(input(\"any number\"))\n",
    "count=0\n",
    "for i in range(1,x+1):\n",
    "    if x%i==0:\n",
    "        count=count+1\n",
    "if count==2:\n",
    "    print(x ,\"is prime\")\n",
    "else:\n",
    "    print(x,\"is non prime\")    \n"
   ]
  },
  {
   "cell_type": "code",
   "execution_count": 33,
   "metadata": {},
   "outputs": [],
   "source": [
    "#3.Write a Python program to find the sum of all the elements in an array.\n",
    "def soae(*array):\n",
    "    sum=0\n",
    "    for num in array:\n",
    "        sum +=num\n",
    "    print(\"sum of array is\",sum)\n"
   ]
  },
  {
   "cell_type": "code",
   "execution_count": 34,
   "metadata": {},
   "outputs": [
    {
     "name": "stdout",
     "output_type": "stream",
     "text": [
      "sum of array is 20\n"
     ]
    }
   ],
   "source": [
    "soae(2,3,4,5,6)"
   ]
  },
  {
   "cell_type": "code",
   "execution_count": 35,
   "metadata": {},
   "outputs": [
    {
     "data": {
      "text/plain": [
       "212"
      ]
     },
     "execution_count": 35,
     "metadata": {},
     "output_type": "execute_result"
    }
   ],
   "source": [
    "x=[12,23,45,65,67]\n",
    "sum(x)"
   ]
  },
  {
   "cell_type": "code",
   "execution_count": 18,
   "metadata": {},
   "outputs": [
    {
     "name": "stdout",
     "output_type": "stream",
     "text": [
      "98\n"
     ]
    }
   ],
   "source": [
    "#4.Write a Python program to find the second largest element in an array.\n",
    "lst=[3,45,100,98]\n",
    "l=max(lst)\n",
    "lst.remove(l)\n",
    "x=max(lst)\n",
    "print(x)"
   ]
  },
  {
   "cell_type": "code",
   "execution_count": 47,
   "metadata": {},
   "outputs": [
    {
     "name": "stdout",
     "output_type": "stream",
     "text": [
      "gcd of 40 45 is 40\n"
     ]
    }
   ],
   "source": [
    "#5.Write a Python function to find the GCD (Greatest Common Divisor) of two numbers.\n",
    "a=int(input(\"any no\"))\n",
    "b=int(input(\"any no\"))\n",
    "print(\"gcd of\",a,b,\"is\",a%b)"
   ]
  },
  {
   "cell_type": "code",
   "execution_count": null,
   "metadata": {},
   "outputs": [],
   "source": [
    "#6.Write a Python program to find the Fibonacci series up to a given number.\n",
    "def fib(n):\n",
    "    if n==0:\n",
    "        return[]\n",
    "    elif n==1:\n",
    "        return[0]\n",
    "    else:\n",
    "        fib=[0,1]\n",
    "        while fib[-1]+fib[-2]<n:\n",
    "            fib.append(fib[-1]+fib[-2])\n",
    "        return fib"
   ]
  },
  {
   "cell_type": "code",
   "execution_count": 7,
   "metadata": {},
   "outputs": [
    {
     "data": {
      "text/plain": [
       "[0, 1, 1, 2, 3, 5, 8, 13]"
      ]
     },
     "execution_count": 7,
     "metadata": {},
     "output_type": "execute_result"
    }
   ],
   "source": [
    "fib(15)"
   ]
  },
  {
   "cell_type": "code",
   "execution_count": 18,
   "metadata": {},
   "outputs": [],
   "source": [
    "#7.Write a Python function to sort a list of integers in ascending order.\n",
    "def l(*n):\n",
    "    return sorted(n)"
   ]
  },
  {
   "cell_type": "code",
   "execution_count": 19,
   "metadata": {},
   "outputs": [
    {
     "data": {
      "text/plain": [
       "[1, 3, 4, 4, 5, 5, 6, 8]"
      ]
     },
     "execution_count": 19,
     "metadata": {},
     "output_type": "execute_result"
    }
   ],
   "source": [
    "l(1,4,5,8,6,5,3,4)"
   ]
  },
  {
   "cell_type": "code",
   "execution_count": 20,
   "metadata": {},
   "outputs": [],
   "source": [
    "#8.Write a Python function to find the median of a list of numbers.\n",
    "def median(lst):\n",
    "    n=len(lst)\n",
    "    s=sorted(lst)\n",
    "    if n%2==0:\n",
    "        return(s[n//2-1]+s[n//2])/2\n",
    "    else:\n",
    "        return s[n//2]"
   ]
  },
  {
   "cell_type": "code",
   "execution_count": 24,
   "metadata": {},
   "outputs": [
    {
     "data": {
      "text/plain": [
       "7.5"
      ]
     },
     "execution_count": 24,
     "metadata": {},
     "output_type": "execute_result"
    }
   ],
   "source": [
    "lst=[2,8,7,9,4,21]\n",
    "median(lst)"
   ]
  },
  {
   "cell_type": "code",
   "execution_count": null,
   "metadata": {},
   "outputs": [],
   "source": [
    "#9.Write a Python program to check if a given string is a pangram."
   ]
  },
  {
   "cell_type": "code",
   "execution_count": 24,
   "metadata": {},
   "outputs": [],
   "source": [
    "#10.Write a Python function to find the sum of all the prime numbers up to a given number.\n",
    "def sop(n):\n",
    "    sum=0\n",
    "    for i in range(2,n+1):\n",
    "        for i in range (2,(int**0.5)+1):\n",
    "            if x%i==0:\n",
    "                break\n",
    "            else:\n",
    "                sum+=i\n",
    "    print(sum)"
   ]
  },
  {
   "cell_type": "code",
   "execution_count": null,
   "metadata": {},
   "outputs": [],
   "source": []
  }
 ],
 "metadata": {
  "kernelspec": {
   "display_name": "Python 3",
   "language": "python",
   "name": "python3"
  },
  "language_info": {
   "codemirror_mode": {
    "name": "ipython",
    "version": 3
   },
   "file_extension": ".py",
   "mimetype": "text/x-python",
   "name": "python",
   "nbconvert_exporter": "python",
   "pygments_lexer": "ipython3",
   "version": "3.11.2"
  },
  "orig_nbformat": 4
 },
 "nbformat": 4,
 "nbformat_minor": 2
}
