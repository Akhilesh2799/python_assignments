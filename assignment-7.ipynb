{
 "cells": [
  {
   "cell_type": "code",
   "execution_count": 18,
   "metadata": {},
   "outputs": [
    {
     "name": "stdout",
     "output_type": "stream",
     "text": [
      "[[8 7 2 5 9]\n",
      " [0 1 0 0 8]\n",
      " [8 8 0 1 0]]\n"
     ]
    }
   ],
   "source": [
    "#Create a 2D array using random array with 3 row 5 columns.\n",
    "import numpy as np\n",
    "array = np.random.randint(10,size=(3,5))\n",
    "print(array)"
   ]
  },
  {
   "cell_type": "code",
   "execution_count": 12,
   "metadata": {},
   "outputs": [
    {
     "name": "stdout",
     "output_type": "stream",
     "text": [
      "6\n"
     ]
    }
   ],
   "source": [
    "#Create a variable which will give you random value from a set of [3, 5, 6,7 ].\n",
    "import numpy as np\n",
    "x = [3,5,6,7]\n",
    "y = np.random.choice(x)\n",
    "print(y)"
   ]
  },
  {
   "cell_type": "code",
   "execution_count": 14,
   "metadata": {},
   "outputs": [
    {
     "name": "stdout",
     "output_type": "stream",
     "text": [
      "[ 1  2 34 23 45 67 42 45 67]\n"
     ]
    }
   ],
   "source": [
    "#Create a multidimensional array first and then convert it to 1D array.\n",
    "import numpy as np\n",
    "A = np.array([[1,2,34],[23,45,67],[42,45,67]])\n",
    "B = A.flatten()\n",
    "print(B)"
   ]
  },
  {
   "cell_type": "code",
   "execution_count": 16,
   "metadata": {},
   "outputs": [
    {
     "name": "stdout",
     "output_type": "stream",
     "text": [
      "[[[12 23 45 32]\n",
      "  [22 34 54 34]\n",
      "  [32 45 67 43]]\n",
      "\n",
      " [[23 43 45 65]\n",
      "  [23 45 67 89]\n",
      "  [43 56 78 90]]\n",
      "\n",
      " [[32 34 56 78]\n",
      "  [12 34 56 78]\n",
      "  [98 76 54 32]]\n",
      "\n",
      " [[34 56 76 87]\n",
      "  [34 54 67 89]\n",
      "  [43 56 98 89]]]\n"
     ]
    }
   ],
   "source": [
    "#Create a 3D array with 4 arrays, 3 rows, 4 columns.\n",
    "import numpy as np\n",
    "C = np.array([[[12,23,45,32],[22,34,54,34],[32,45,67,43]],\n",
    "             [[23,43,45,65],[23,45,67,89],[43,56,78,90]],\n",
    "             [[32,34,56,78],[12,34,56,78],[98,76,54,32]],\n",
    "             [[34,56,76,87],[34,54,67,89],[43,56,98,89]]])\n",
    "print(C)"
   ]
  },
  {
   "cell_type": "code",
   "execution_count": 29,
   "metadata": {},
   "outputs": [
    {
     "name": "stdout",
     "output_type": "stream",
     "text": [
      "mean = 36.22222222222222\n",
      "median =  42.0\n",
      "mode = 45\n"
     ]
    }
   ],
   "source": [
    "#Write a code to find out mean, median and mode for array in NumPy.\n",
    "import numpy as np\n",
    "import statistics as sd\n",
    "print(\"mean =\",np.mean(B))\n",
    "print(\"median = \",np.median(B))\n",
    "print(\"mode =\",sd.mode(B))"
   ]
  },
  {
   "cell_type": "code",
   "execution_count": 31,
   "metadata": {},
   "outputs": [
    {
     "name": "stdout",
     "output_type": "stream",
     "text": [
      "[ 0  1  2  3  4  5  6  7  8  9 10 11 12 13 14 15 16 17 18 19 20 21 22 23\n",
      " 24 25 26 27 28 29 30 31 32 33 34 35 36 37 38 39 40 41 42 43 44 45 46 47\n",
      " 48 49 50 51 52 53 54 55 56 57 58 59 60 61 62 63 64 65 66 67 68 69 70 71\n",
      " 72 73 74 75 76 77 78 79 80 81 82 83 84 85 86 87 88 89 90 91 92 93 94 95\n",
      " 96 97 98 99]\n"
     ]
    }
   ],
   "source": [
    "#Write a code to create a variable in NumPy to get values between 0 to 100.\n",
    "import numpy as np\n",
    "E = np.arange(0,100)\n",
    "print(E)"
   ]
  },
  {
   "cell_type": "code",
   "execution_count": 32,
   "metadata": {},
   "outputs": [
    {
     "name": "stdout",
     "output_type": "stream",
     "text": [
      "[ 7  8  9 10]\n"
     ]
    }
   ],
   "source": [
    "#Arr_ = numpy.array([[1,2,3,4,5],[6,7,8,9,10]]. From the 2 nd row slice elements from 1 to 4.\n",
    "import numpy as np\n",
    "Arr_ = np.array([[1,2,3,4,5],[6,7,8,9,10]])\n",
    "se = Arr_[1,1:5]\n",
    "print(se)\n"
   ]
  },
  {
   "cell_type": "code",
   "execution_count": 34,
   "metadata": {},
   "outputs": [
    {
     "name": "stdout",
     "output_type": "stream",
     "text": [
      "[2 4 5]\n"
     ]
    }
   ],
   "source": [
    "#Arr_ = numpy.array([[1,2,3,4,5],[6,7,8,9,10]]. From the 1st row slice elements from 1,3,5.\n",
    "import numpy as np\n",
    "Arr_ = np.array([[1,2,3,4,5],[6,7,8,9,10]])\n",
    "sp = Arr_[0,[1,3,4]]\n",
    "print(sp)\n"
   ]
  },
  {
   "cell_type": "code",
   "execution_count": 38,
   "metadata": {},
   "outputs": [
    {
     "name": "stdout",
     "output_type": "stream",
     "text": [
      "[11 76 58 84  8]\n"
     ]
    }
   ],
   "source": [
    "#Write a code to create a variable in NumPy to get 5 random values between 0 to 100.\n",
    "import numpy as np\n",
    "G = np.random.randint(0,100,size=5)\n",
    "print(G)"
   ]
  },
  {
   "cell_type": "code",
   "execution_count": 43,
   "metadata": {},
   "outputs": [
    {
     "name": "stdout",
     "output_type": "stream",
     "text": [
      "Arrmax = 10 Arrmin = 1\n",
      "Arr1max = 18 Arr1min = 9\n"
     ]
    }
   ],
   "source": [
    "'''Arr = numpy.array([1,2,3,4,5,6,10])\n",
    "Arr1 = numpy.array([13,14,12,16,17,18,9,10])\n",
    "Write a code to find the max value and min value.'''\n",
    "import numpy as np\n",
    "Arr = np.array([1,2,3,4,5,6,10])\n",
    "Arr1 = np.array([13,14,12,16,17,18,9,10])\n",
    "print(\"Arrmax =\",max(Arr),\"Arrmin =\",min(Arr))\n",
    "print(\"Arr1max =\",max(Arr1),\"Arr1min =\",min(Arr1))"
   ]
  },
  {
   "cell_type": "code",
   "execution_count": null,
   "metadata": {},
   "outputs": [],
   "source": []
  }
 ],
 "metadata": {
  "kernelspec": {
   "display_name": "Python 3",
   "language": "python",
   "name": "python3"
  },
  "language_info": {
   "codemirror_mode": {
    "name": "ipython",
    "version": 3
   },
   "file_extension": ".py",
   "mimetype": "text/x-python",
   "name": "python",
   "nbconvert_exporter": "python",
   "pygments_lexer": "ipython3",
   "version": "3.11.2"
  },
  "orig_nbformat": 4
 },
 "nbformat": 4,
 "nbformat_minor": 2
}
