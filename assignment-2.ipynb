{
 "cells": [
  {
   "cell_type": "code",
   "execution_count": 1,
   "metadata": {},
   "outputs": [
    {
     "name": "stdout",
     "output_type": "stream",
     "text": [
      "20 <class 'int'>\n",
      "22.2 <class 'float'>\n",
      "kil <class 'str'>\n"
     ]
    }
   ],
   "source": [
    "A=int(input(\"Any thing\"))\n",
    "print(A,type(A))\n",
    "B=float(input(\"Any thing\"))\n",
    "print(B,type(B))\n",
    "C=str(input(\"Any thing\"))\n",
    "print(C,type(C))"
   ]
  },
  {
   "cell_type": "code",
   "execution_count": 11,
   "metadata": {},
   "outputs": [
    {
     "name": "stdout",
     "output_type": "stream",
     "text": [
      "X3 is MAX\n"
     ]
    }
   ],
   "source": [
    "x1=int(input(\"Any thing\"))\n",
    "x2=int(input(\"Any thing\"))\n",
    "x3=int(input(\"Any thing\"))\n",
    "x4=int(input(\"Any thing\"))\n",
    "if x1>x2 and x1>x3 and x1>x4:\n",
    "    print(\"X1 is MAX\")\n",
    "if x2>x1 and x2>x3 and x2>x4:\n",
    "    print(\"X2 is MAX\")\n",
    "if x3>x1 and x3>x2 and x3>x4:\n",
    "    print(\"X3 is MAX\")\n",
    "elif x4>x1 and x4>x2 and x4>x3:\n",
    "    print(\"X4 is MAX\")\n"
   ]
  },
  {
   "cell_type": "code",
   "execution_count": null,
   "metadata": {},
   "outputs": [],
   "source": []
  }
 ],
 "metadata": {
  "kernelspec": {
   "display_name": "Python 3",
   "language": "python",
   "name": "python3"
  },
  "language_info": {
   "codemirror_mode": {
    "name": "ipython",
    "version": 3
   },
   "file_extension": ".py",
   "mimetype": "text/x-python",
   "name": "python",
   "nbconvert_exporter": "python",
   "pygments_lexer": "ipython3",
   "version": "3.11.2"
  },
  "orig_nbformat": 4
 },
 "nbformat": 4,
 "nbformat_minor": 2
}
